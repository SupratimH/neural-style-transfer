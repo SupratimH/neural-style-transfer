{
 "cells": [
  {
   "cell_type": "markdown",
   "metadata": {},
   "source": [
    "# Deep Learning and Art : Neural Style Transfer\n",
    "### Programatically painting an image following the style of another image using Neural Style Transfer algorithm\n",
    "\n",
    "The idea is to use the filter responses from different layers of a convolutional network to build the style. Using filter responses from different layers (ranging from lower to higher) captures from low level details (strokes, points, corners) to high level details (patterns, objects, etc) which we will used to perturb the content image, which gives the final \"painted\" image.\n",
    "\n",
    "Neural Style Transfer algorithm was created by Gatys et al. (2015) (https://arxiv.org/abs/1508.06576). \n",
    "\n",
    "Most of the D/L algorithms optimize a cost function to get a set of parameter values. In Neural Style Transfer, we optimize a cost function to get pixel values."
   ]
  },
  {
   "cell_type": "code",
   "execution_count": 1,
   "metadata": {},
   "outputs": [],
   "source": [
    "import os\n",
    "import sys\n",
    "import scipy.io\n",
    "import scipy.misc\n",
    "import matplotlib.pyplot as plt\n",
    "from matplotlib.pyplot import imshow\n",
    "from PIL import Image\n",
    "from nst_utils import *\n",
    "import numpy as np\n",
    "import tensorflow as tf\n",
    "\n",
    "%matplotlib inline"
   ]
  },
  {
   "cell_type": "markdown",
   "metadata": {},
   "source": [
    "## 1 - Neural Style Transfer \n",
    "\n",
    "We will build the NST algorithm in three steps:\n",
    "\n",
    "- Build the content cost function $J_{content}(C,G)$\n",
    "- Build the style cost function $J_{style}(S,G)$\n",
    "- Put it together to get $J(G) = \\alpha J_{content}(C,G) + \\beta J_{style}(S,G)$. \n",
    "\n",
    "### 1.1 - Computing the content cost"
   ]
  },
  {
   "cell_type": "code",
   "execution_count": 2,
   "metadata": {},
   "outputs": [],
   "source": [
    "def compute_content_cost(a_C, a_G):\n",
    "    \"\"\"\n",
    "    Computes the content cost\n",
    "    \n",
    "    Arguments:\n",
    "    a_C -- tensor of dimension (1, n_H, n_W, n_C), hidden layer activations representing content of the image C \n",
    "    a_G -- tensor of dimension (1, n_H, n_W, n_C), hidden layer activations representing content of the image G\n",
    "    \n",
    "    Returns: \n",
    "    J_content -- scalar that you compute using equation 1 above.\n",
    "    \"\"\"\n",
    "    \n",
    "    # Retrieve dimensions from a_G\n",
    "    m, n_H, n_W, n_C = a_G.get_shape().as_list()\n",
    "    \n",
    "    # Reshape a_C and a_G\n",
    "    a_C_unrolled = tf.transpose(tf.reshape(a_C, [n_H * n_W, n_C]))\n",
    "    a_G_unrolled = tf.transpose(tf.reshape(a_G, [n_H * n_W, n_C]))\n",
    "    \n",
    "    # compute the cost with tensorflow\n",
    "    J_content = tf.reduce_sum(tf.square(tf.subtract(a_C_unrolled, a_G_unrolled)))/(4*n_H*n_W*n_C)\n",
    "    \n",
    "    return J_content"
   ]
  },
  {
   "cell_type": "markdown",
   "metadata": {},
   "source": [
    "**Point to remember**:\n",
    "- The content cost takes a hidden layer activation of the neural network, and measures how different $a^{(C)}$ and $a^{(G)}$ are. \n",
    "- When we minimize the content cost later, this will help make sure $G$ has similar content as $C$."
   ]
  },
  {
   "cell_type": "markdown",
   "metadata": {},
   "source": [
    "### 1.2 - Computing the style cost"
   ]
  },
  {
   "cell_type": "code",
   "execution_count": 3,
   "metadata": {},
   "outputs": [],
   "source": [
    "def gram_matrix(A):\n",
    "    \"\"\"\n",
    "    Argument:\n",
    "    A -- matrix of shape (n_C, n_H*n_W)\n",
    "    \n",
    "    Returns:\n",
    "    GA -- Gram matrix of A, of shape (n_C, n_C)\n",
    "    \"\"\"\n",
    "    GA = tf.matmul(A, tf.transpose(A))\n",
    "    return GA"
   ]
  },
  {
   "cell_type": "markdown",
   "metadata": {},
   "source": [
    "### 1.2.2 - Style cost"
   ]
  },
  {
   "cell_type": "markdown",
   "metadata": {},
   "source": [
    "After generating the Style matrix (Gram matrix), our goal will be to minimize the distance between the Gram matrix of the \"style\" image S and that of the \"generated\" image G. For now, we are using only a single hidden layer $a^{[l]}$, and the corresponding style cost for this layer is defined as: \n",
    "\n",
    "$$J_{style}^{[l]}(S,G) = \\frac{1}{4 \\times {n_C}^2 \\times (n_H \\times n_W)^2} \\sum _{i=1}^{n_C}\\sum_{j=1}^{n_C}(G^{(S)}_{ij} - G^{(G)}_{ij})^2\\tag{2} $$\n",
    "\n",
    "where $G^{(S)}$ and $G^{(G)}$ are respectively the Gram matrices of the \"style\" image and the \"generated\" image, computed using the hidden layer activations for a particular hidden layer in the network.  "
   ]
  },
  {
   "cell_type": "code",
   "execution_count": 4,
   "metadata": {},
   "outputs": [],
   "source": [
    "def compute_layer_style_cost(a_S, a_G):\n",
    "    \"\"\"\n",
    "    Arguments:\n",
    "    a_S -- tensor of dimension (1, n_H, n_W, n_C), hidden layer activations representing style of the image S \n",
    "    a_G -- tensor of dimension (1, n_H, n_W, n_C), hidden layer activations representing style of the image G\n",
    "    \n",
    "    Returns: \n",
    "    J_style_layer -- tensor representing a scalar value, style cost defined above by equation (2)\n",
    "    \"\"\"\n",
    "    \n",
    "    # Retrieve dimensions from a_G\n",
    "    m, n_H, n_W, n_C = a_G.get_shape().as_list()\n",
    "    \n",
    "    # Reshape the images to have them of shape (n_C, n_H*n_W)\n",
    "    a_S = tf.transpose(tf.reshape(a_S, [n_H * n_W, n_C]))\n",
    "    a_G = tf.transpose(tf.reshape(a_G, [n_H * n_W, n_C]))\n",
    "\n",
    "    # Computing gram_matrices for both images S and G\n",
    "    GS = gram_matrix(a_S)\n",
    "    GG = gram_matrix(a_G)\n",
    "\n",
    "    # Computing the loss\n",
    "    J_style_layer = tf.reduce_sum(tf.square(tf.subtract(GS, GG)))/(4*(n_C**2)*((n_H*n_W)**2))\n",
    "    \n",
    "    return J_style_layer"
   ]
  },
  {
   "cell_type": "markdown",
   "metadata": {},
   "source": [
    "### 1.2.3 Style Weights\n",
    "\n",
    "So far we have captured the style from only one layer. We'll get better results if we \"merge\" style costs from several different layers.\n",
    "\n",
    "To have softer features, increase the weight of the higher layers (conv5_1) and decrease the weight of the lower layers (conv1_1). To have harder features, decrease the weight of the higher layers (conv5_1) and increase the weight of the lower layers (conv1_1)."
   ]
  },
  {
   "cell_type": "code",
   "execution_count": 5,
   "metadata": {},
   "outputs": [],
   "source": [
    "STYLE_LAYERS = [\n",
    "    ('conv1_1', 0.5),\n",
    "    ('conv2_1', 1.0),\n",
    "    ('conv3_1', 1.5),\n",
    "    ('conv4_1', 3.0),\n",
    "    ('conv5_1', 4.0),\n",
    "]"
   ]
  },
  {
   "cell_type": "markdown",
   "metadata": {},
   "source": [
    "We can combine the style costs for different layers as follows:\n",
    "\n",
    "$$J_{style}(S,G) = \\sum_{l} \\lambda^{[l]} J^{[l]}_{style}(S,G)$$\n",
    "\n",
    "where the values for $\\lambda^{[l]}$ are given in `STYLE_LAYERS`. \n"
   ]
  },
  {
   "cell_type": "markdown",
   "metadata": {},
   "source": [
    "We've implemented a compute_style_cost(...) function. It simply calls our `compute_layer_style_cost(...)` several times, and weights their results using the values in `STYLE_LAYERS`.\n",
    "\n",
    "1. Loop over (layer_name, coeff) from STYLE_LAYERS:\n",
    "        a. Select the output tensor of the current layer. As an example, to call the tensor from the \"conv1_1\" layer : out = model [\"conv1_1\"]\n",
    "        b. Get the style of the style image from the current layer by running the session on the tensor \"out\"\n",
    "        c. Get a tensor representing the style of the generated image from the current layer. It is just \"out\".\n",
    "        d. Now that we have both styles. Use the function implemented above to compute the style_cost for the current layer\n",
    "        e. Add (style_cost x coeff) of the current layer to overall style cost (J_style)\n",
    "2. Return J_style, which should now be the sum of the (style_cost x coeff) for each layer.\n"
   ]
  },
  {
   "cell_type": "code",
   "execution_count": 6,
   "metadata": {},
   "outputs": [],
   "source": [
    "def compute_style_cost(model, STYLE_LAYERS):\n",
    "    \"\"\"\n",
    "    Computes the overall style cost from several chosen layers\n",
    "    \n",
    "    Arguments:\n",
    "    model -- our tensorflow model\n",
    "    STYLE_LAYERS -- A python list containing:\n",
    "                        - the names of the layers we would like to extract style from\n",
    "                        - a coefficient for each of them\n",
    "    \n",
    "    Returns: \n",
    "    J_style -- tensor representing a scalar value, style cost defined above by equation (2)\n",
    "    \"\"\"\n",
    "  \n",
    "    # initialize the overall style cost\n",
    "    J_style = 0\n",
    "\n",
    "    for layer_name, coeff in STYLE_LAYERS:\n",
    "\n",
    "        # Select the output tensor of the currently selected layer\n",
    "        out = model[layer_name]\n",
    "\n",
    "        # Set a_S to be the hidden layer activation from the layer we have selected, by running the session on out\n",
    "        a_S = sess.run(out)\n",
    "\n",
    "        # Set a_G to be the hidden layer activation from same layer. Here, a_G references model[layer_name] \n",
    "        # and isn't evaluated yet. Later in the code, we'll assign the image G as the model input, so that\n",
    "        # when we run the session, this will be the activations drawn from the appropriate layer, with G as input.\n",
    "        a_G = out\n",
    "        \n",
    "        # Compute style_cost for the current layer\n",
    "        J_style_layer = compute_layer_style_cost(a_S, a_G)\n",
    "\n",
    "        # Add coeff * J_style_layer of this layer to overall style cost\n",
    "        J_style += coeff * J_style_layer\n",
    "\n",
    "    return J_style"
   ]
  },
  {
   "cell_type": "markdown",
   "metadata": {},
   "source": [
    "**Note**: In the inner-loop of the for-loop above, `a_G` is a tensor and hasn't been evaluated yet. It will be evaluated and updated at each iteration when we run the TensorFlow graph in model_nn() below.\n",
    "\n",
    "#### How do you choose the coefficients for each layer? \n",
    "The deeper layers capture higher-level concepts, and the features in the deeper layers are less localized in the image relative to each other. So if you want the generated image to softly follow the style image, try choosing larger weights for deeper layers and smaller weights for the first layers. In contrast, if you want the generated image to strongly follow the style image, try choosing smaller weights for deeper layers and larger weights for the first layers\n",
    "\n",
    "**Point to remember**:\n",
    "- The style of an image can be represented using the Gram matrix of a hidden layer's activations. However, we get even better results combining this representation from multiple different layers. This is in contrast to the content representation, where usually using just a single hidden layer is sufficient.\n",
    "- Minimizing the style cost will cause the image $G$ to follow the style of the image $S$. "
   ]
  },
  {
   "cell_type": "markdown",
   "metadata": {},
   "source": [
    "### 1.3 - Defining the total cost to optimize"
   ]
  },
  {
   "cell_type": "markdown",
   "metadata": {},
   "source": [
    "Finally, let's create a cost function that minimizes both the style and the content cost. The formula is: \n",
    "\n",
    "$$J(G) = \\alpha J_{content}(C,G) + \\beta J_{style}(S,G)$$ "
   ]
  },
  {
   "cell_type": "code",
   "execution_count": 7,
   "metadata": {},
   "outputs": [],
   "source": [
    "def total_cost(J_content, J_style, alpha = 10, beta = 50):\n",
    "    \"\"\"\n",
    "    Computes the total cost function\n",
    "    \n",
    "    Arguments:\n",
    "    J_content -- content cost coded above\n",
    "    J_style -- style cost coded above\n",
    "    alpha -- hyperparameter weighting the importance of the content cost\n",
    "    beta -- hyperparameter weighting the importance of the style cost\n",
    "    \n",
    "    Returns:\n",
    "    J -- total cost as defined by the formula above.\n",
    "    \"\"\"\n",
    "    J = alpha * J_content + beta * J_style\n",
    "    return J"
   ]
  },
  {
   "cell_type": "markdown",
   "metadata": {},
   "source": [
    "**Point to remember**:\n",
    "- The total cost is a linear combination of the content cost $J_{content}(C,G)$ and the style cost $J_{style}(S,G)$\n",
    "- $\\alpha$ and $\\beta$ are hyperparameters that control the relative weighting between content and style"
   ]
  },
  {
   "cell_type": "markdown",
   "metadata": {},
   "source": [
    "## 2 - Solving the optimization problem"
   ]
  },
  {
   "cell_type": "markdown",
   "metadata": {},
   "source": [
    "Finally, let's put everything together to implement Neural Style Transfer!\n",
    "\n",
    "\n",
    "Here's what the program will have to do:\n",
    "<font color='blue'>\n",
    "\n",
    "1. Create an Interactive Session\n",
    "2. Load the content image \n",
    "3. Load the style image\n",
    "4. Randomly initialize the image to be generated \n",
    "5. Load the VGG16 model\n",
    "7. Build the TensorFlow graph:\n",
    "    - Run the content image through the VGG16 model and compute the content cost\n",
    "    - Run the style image through the VGG16 model and compute the style cost\n",
    "    - Compute the total cost\n",
    "    - Define the optimizer and the learning rate\n",
    "8. Initialize the TensorFlow graph and run it for a large number of iterations, updating the generated image at every step.\n",
    "\n",
    "</font>"
   ]
  },
  {
   "cell_type": "markdown",
   "metadata": {},
   "source": [
    "We've previously implemented the overall cost $J(G)$. We'll now set up TensorFlow to optimize this with respect to $G$. To do so, our program has to reset the graph and use an \"[Interactive Session](https://www.tensorflow.org/api_docs/python/tf/InteractiveSession)\". Unlike a regular session, the \"Interactive Session\" installs itself as the default session to build a graph.  This allows to run variables without constantly needing to refer to the session object, which simplifies the code.  \n",
    "\n",
    "Lets start the interactive session."
   ]
  },
  {
   "cell_type": "code",
   "execution_count": 8,
   "metadata": {},
   "outputs": [],
   "source": [
    "# Reset the graph\n",
    "tf.reset_default_graph()\n",
    "\n",
    "# Start interactive session\n",
    "sess = tf.InteractiveSession()"
   ]
  },
  {
   "cell_type": "markdown",
   "metadata": {},
   "source": [
    "Next, let's load the VGG16 model (downloaded from [here](http://www.vlfeat.org/matconvnet/models/imagenet-vgg-verydeep-19.mat))"
   ]
  },
  {
   "cell_type": "code",
   "execution_count": 9,
   "metadata": {},
   "outputs": [
    {
     "data": {
      "text/plain": [
       "{'input': <tf.Variable 'Variable:0' shape=(1, 600, 400, 3) dtype=float32_ref>,\n",
       " 'conv1_1': <tf.Tensor 'Relu:0' shape=(1, 600, 400, 64) dtype=float32>,\n",
       " 'conv1_2': <tf.Tensor 'Relu_1:0' shape=(1, 600, 400, 64) dtype=float32>,\n",
       " 'avgpool1': <tf.Tensor 'AvgPool:0' shape=(1, 300, 200, 64) dtype=float32>,\n",
       " 'conv2_1': <tf.Tensor 'Relu_2:0' shape=(1, 300, 200, 128) dtype=float32>,\n",
       " 'conv2_2': <tf.Tensor 'Relu_3:0' shape=(1, 300, 200, 128) dtype=float32>,\n",
       " 'avgpool2': <tf.Tensor 'AvgPool_1:0' shape=(1, 150, 100, 128) dtype=float32>,\n",
       " 'conv3_1': <tf.Tensor 'Relu_4:0' shape=(1, 150, 100, 256) dtype=float32>,\n",
       " 'conv3_2': <tf.Tensor 'Relu_5:0' shape=(1, 150, 100, 256) dtype=float32>,\n",
       " 'conv3_3': <tf.Tensor 'Relu_6:0' shape=(1, 150, 100, 256) dtype=float32>,\n",
       " 'conv3_4': <tf.Tensor 'Relu_7:0' shape=(1, 150, 100, 256) dtype=float32>,\n",
       " 'avgpool3': <tf.Tensor 'AvgPool_2:0' shape=(1, 75, 50, 256) dtype=float32>,\n",
       " 'conv4_1': <tf.Tensor 'Relu_8:0' shape=(1, 75, 50, 512) dtype=float32>,\n",
       " 'conv4_2': <tf.Tensor 'Relu_9:0' shape=(1, 75, 50, 512) dtype=float32>,\n",
       " 'conv4_3': <tf.Tensor 'Relu_10:0' shape=(1, 75, 50, 512) dtype=float32>,\n",
       " 'conv4_4': <tf.Tensor 'Relu_11:0' shape=(1, 75, 50, 512) dtype=float32>,\n",
       " 'avgpool4': <tf.Tensor 'AvgPool_3:0' shape=(1, 38, 25, 512) dtype=float32>,\n",
       " 'conv5_1': <tf.Tensor 'Relu_12:0' shape=(1, 38, 25, 512) dtype=float32>,\n",
       " 'conv5_2': <tf.Tensor 'Relu_13:0' shape=(1, 38, 25, 512) dtype=float32>,\n",
       " 'conv5_3': <tf.Tensor 'Relu_14:0' shape=(1, 38, 25, 512) dtype=float32>,\n",
       " 'conv5_4': <tf.Tensor 'Relu_15:0' shape=(1, 38, 25, 512) dtype=float32>,\n",
       " 'avgpool5': <tf.Tensor 'AvgPool_4:0' shape=(1, 19, 13, 512) dtype=float32>}"
      ]
     },
     "execution_count": 9,
     "metadata": {},
     "output_type": "execute_result"
    }
   ],
   "source": [
    "model = load_vgg_model(\"pretrained-model/imagenet-vgg-verydeep-19.mat\")\n",
    "model"
   ]
  },
  {
   "cell_type": "markdown",
   "metadata": {},
   "source": [
    "Let's load, reshape, and normalize our \"content\" image"
   ]
  },
  {
   "cell_type": "code",
   "execution_count": 10,
   "metadata": {},
   "outputs": [
    {
     "name": "stderr",
     "output_type": "stream",
     "text": [
      "Clipping input data to the valid range for imshow with RGB data ([0..1] for floats or [0..255] for integers).\n"
     ]
    },
    {
     "data": {
      "image/png": "[encoded data removed]",
      "text/plain": [
       "<Figure size 432x288 with 1 Axes>"
      ]
     },
     "metadata": {
      "needs_background": "light"
     },
     "output_type": "display_data"
    }
   ],
   "source": [
    "content_image = plt.imread(\"images/RRV-the-milkmaid.jpg\")\n",
    "content_image = reshape_and_normalize_image(content_image)\n",
    "plt.imshow(content_image[0])\n",
    "plt.show()"
   ]
  },
  {
   "cell_type": "markdown",
   "metadata": {},
   "source": [
    "Let's load, reshape and normalize our \"style\" image"
   ]
  },
  {
   "cell_type": "code",
   "execution_count": 11,
   "metadata": {},
   "outputs": [
    {
     "name": "stderr",
     "output_type": "stream",
     "text": [
      "Clipping input data to the valid range for imshow with RGB data ([0..1] for floats or [0..255] for integers).\n"
     ]
    },
    {
     "data": {
      "image/png": "[encoded data removed]",
      "text/plain": [
       "<Figure size 432x288 with 1 Axes>"
      ]
     },
     "metadata": {
      "needs_background": "light"
     },
     "output_type": "display_data"
    }
   ],
   "source": [
    "style_image = plt.imread(\"images/Jamini-Roy-moher-and-son.jpg\")\n",
    "style_image = reshape_and_normalize_image(style_image)\n",
    "plt.imshow(style_image[0])\n",
    "plt.show()"
   ]
  },
  {
   "cell_type": "markdown",
   "metadata": {},
   "source": [
    "Now, we initialize the \"generated\" image as a noisy image created from the content_image. By initializing the pixels of the generated image to be mostly noise but still slightly correlated with the content image, this will help the content of the \"generated\" image more rapidly match the content of the \"content\" image."
   ]
  },
  {
   "cell_type": "code",
   "execution_count": 12,
   "metadata": {},
   "outputs": [
    {
     "name": "stderr",
     "output_type": "stream",
     "text": [
      "Clipping input data to the valid range for imshow with RGB data ([0..1] for floats or [0..255] for integers).\n"
     ]
    },
    {
     "data": {
      "image/png": "[encoded data removed]",
      "text/plain": [
       "<Figure size 432x288 with 1 Axes>"
      ]
     },
     "metadata": {
      "needs_background": "light"
     },
     "output_type": "display_data"
    }
   ],
   "source": [
    "generated_image = generate_noise_image(content_image)\n",
    "imshow(generated_image[0])\n",
    "plt.show()"
   ]
  },
  {
   "cell_type": "markdown",
   "metadata": {},
   "source": [
    "To get the program to compute the content cost, we will now assign `a_C` and `a_G` to be the appropriate hidden layer activations. We will use layer `conv4_2` to compute the content cost. The code below does the following:\n",
    "\n",
    "1. Assign the content image to be the input to the VGG model.\n",
    "2. Set a_C to be the tensor giving the hidden layer activation for layer \"conv4_2\".\n",
    "3. Set a_G to be the tensor giving the hidden layer activation for the same layer. \n",
    "4. Compute the content cost using a_C and a_G."
   ]
  },
  {
   "cell_type": "code",
   "execution_count": 13,
   "metadata": {},
   "outputs": [],
   "source": [
    "# Assign the content image to be the input of the VGG model.  \n",
    "sess.run(model['input'].assign(content_image))\n",
    "\n",
    "# Select the output tensor of layer conv4_2\n",
    "out = model['conv4_2']\n",
    "\n",
    "# Set a_C to be the hidden layer activation from the layer we have selected\n",
    "a_C = sess.run(out)\n",
    "\n",
    "# Set a_G to be the hidden layer activation from same layer. Here, a_G references model['conv4_2'] \n",
    "# and isn't evaluated yet. Later in the code, we'll assign the image G as the model input, so that\n",
    "# when we run the session, this will be the activations drawn from the appropriate layer, with G as input.\n",
    "a_G = out\n",
    "\n",
    "# Compute the content cost\n",
    "J_content = compute_content_cost(a_C, a_G)"
   ]
  },
  {
   "cell_type": "markdown",
   "metadata": {},
   "source": [
    "**Note**: At this point, a_G is a tensor and hasn't been evaluated. It will be evaluated and updated at each iteration when we run the Tensorflow graph in model_nst() below."
   ]
  },
  {
   "cell_type": "code",
   "execution_count": 14,
   "metadata": {},
   "outputs": [],
   "source": [
    "# Assign the input of the model to be the \"style\" image \n",
    "sess.run(model['input'].assign(style_image))\n",
    "\n",
    "# Compute the style cost\n",
    "J_style = compute_style_cost(model, STYLE_LAYERS)"
   ]
  },
  {
   "cell_type": "markdown",
   "metadata": {},
   "source": [
    "Compute total cost"
   ]
  },
  {
   "cell_type": "code",
   "execution_count": 15,
   "metadata": {},
   "outputs": [],
   "source": [
    "J = total_cost(J_content, J_style)"
   ]
  },
  {
   "cell_type": "markdown",
   "metadata": {},
   "source": [
    "Set optimizer"
   ]
  },
  {
   "cell_type": "code",
   "execution_count": 16,
   "metadata": {},
   "outputs": [],
   "source": [
    "# define optimizer\n",
    "optimizer = tf.train.AdamOptimizer(2.0)\n",
    "\n",
    "# define train_step\n",
    "train_step = optimizer.minimize(J)"
   ]
  },
  {
   "cell_type": "markdown",
   "metadata": {},
   "source": [
    "Implement the model_nst() function which initializes the variables of the tensorflow graph, assigns the input image (initial generated image) as the input of the VGG16 model and runs the train_step for a large number of steps."
   ]
  },
  {
   "cell_type": "code",
   "execution_count": 17,
   "metadata": {},
   "outputs": [],
   "source": [
    "def model_nst(sess, input_image, num_iterations = 50):\n",
    "    \n",
    "    # Initialize global variables\n",
    "    sess.run(tf.global_variables_initializer())\n",
    "    \n",
    "    # Run the noisy input image (initial generated image) through the model\n",
    "    sess.run(model[\"input\"].assign(input_image))\n",
    "    \n",
    "    for i in range(num_iterations):\n",
    "    \n",
    "        # Run the session on the train_step to minimize the total cost\n",
    "        sess.run(train_step)\n",
    "        \n",
    "        # Compute the generated image by running the session on the current model['input']\n",
    "        #generated_image = sess.run(model['input'])\n",
    "\n",
    "        # Print every n iteration\n",
    "        if i%50 == 0:\n",
    "            # Compute the generated image\n",
    "            generated_image = sess.run(model['input'])\n",
    "            Jt, Jc, Js = sess.run([J, J_content, J_style])\n",
    "            print(\"Iteration \" + str(i) + \" :\")\n",
    "            print(\"total cost = \" + str(Jt))\n",
    "            #print(\"content cost = \" + str(Jc))\n",
    "            #print(\"style cost = \" + str(Js))\n",
    "            \n",
    "            # save current generated image in the \"/output\" directory\n",
    "            save_image(\"output/\" + str(i) + \".png\", generated_image)\n",
    "    \n",
    "    # save last generated image\n",
    "    save_image('output/generated_image.jpg', generated_image)\n",
    "    \n",
    "    return generated_image.shape"
   ]
  },
  {
   "cell_type": "markdown",
   "metadata": {},
   "source": [
    "Run the function to generate an artistic image."
   ]
  },
  {
   "cell_type": "code",
   "execution_count": 18,
   "metadata": {
    "scrolled": true
   },
   "outputs": [
    {
     "name": "stdout",
     "output_type": "stream",
     "text": [
      "Iteration 0 :\n",
      "total cost = 102396625000.0\n",
      "Iteration 50 :\n",
      "total cost = 3001491200.0\n",
      "Iteration 100 :\n",
      "total cost = 1067985300.0\n",
      "Iteration 150 :\n",
      "total cost = 598819700.0\n",
      "Iteration 200 :\n",
      "total cost = 401716600.0\n",
      "Iteration 250 :\n",
      "total cost = 298647420.0\n",
      "Iteration 300 :\n",
      "total cost = 235869440.0\n",
      "Iteration 350 :\n",
      "total cost = 193737730.0\n",
      "Iteration 400 :\n",
      "total cost = 163670380.0\n",
      "Iteration 450 :\n",
      "total cost = 141418000.0\n",
      "Iteration 500 :\n",
      "total cost = 125442030.0\n",
      "Iteration 550 :\n",
      "total cost = 115975850.0\n",
      "Iteration 600 :\n",
      "total cost = 100813740.0\n",
      "Iteration 650 :\n",
      "total cost = 93092010.0\n",
      "Iteration 700 :\n",
      "total cost = 85921620.0\n",
      "Iteration 750 :\n",
      "total cost = 79065140.0\n",
      "Iteration 800 :\n",
      "total cost = 82465310.0\n",
      "Iteration 850 :\n",
      "total cost = 80540744.0\n",
      "Iteration 900 :\n",
      "total cost = 66688796.0\n",
      "Iteration 950 :\n",
      "total cost = 67728200.0\n"
     ]
    },
    {
     "data": {
      "text/plain": [
       "(1, 600, 400, 3)"
      ]
     },
     "execution_count": 18,
     "metadata": {},
     "output_type": "execute_result"
    }
   ],
   "source": [
    "model_nst(sess, generated_image, 1000)"
   ]
  },
  {
   "cell_type": "code",
   "execution_count": 19,
   "metadata": {},
   "outputs": [],
   "source": [
    "#writer = tf.summary.FileWriter(\"output/\", sess.graph)"
   ]
  },
  {
   "cell_type": "code",
   "execution_count": 20,
   "metadata": {},
   "outputs": [],
   "source": [
    "sess.close()"
   ]
  },
  {
   "cell_type": "markdown",
   "metadata": {},
   "source": [
    "## 3 - Conclusion\n",
    "\n",
    "That's it, we have a new image now where style of an image is applied on content of another image."
   ]
  },
  {
   "cell_type": "markdown",
   "metadata": {
    "collapsed": true
   },
   "source": [
    "### References:\n",
    "\n",
    "- Leon A. Gatys, Alexander S. Ecker, Matthias Bethge, (2015). A Neural Algorithm of Artistic Style (https://arxiv.org/abs/1508.06576) \n",
    "- Harish Narayanan, Convolutional neural networks for artistic style transfer. https://harishnarayanan.org/writing/artistic-style-transfer/\n",
    "- Log0, TensorFlow Implementation of \"A Neural Algorithm of Artistic Style\". http://www.chioka.in/tensorflow-implementation-neural-algorithm-of-artistic-style\n",
    "- Karen Simonyan and Andrew Zisserman (2015). Very deep convolutional networks for large-scale image recognition (https://arxiv.org/pdf/1409.1556.pdf)\n",
    "- MatConvNet. http://www.vlfeat.org/matconvnet/pretrained/\n",
    "- Course on \"Convolution Neural Network\" by https://www.deeplearning.ai/ on Coursera."
   ]
  }
 ],
 "metadata": {
  "coursera": {
   "course_slug": "convolutional-neural-networks",
   "graded_item_id": "owWbQ",
   "launcher_item_id": "lEthw"
  },
  "kernelspec": {
   "display_name": "Python 3",
   "language": "python",
   "name": "python3"
  },
  "language_info": {
   "codemirror_mode": {
    "name": "ipython",
    "version": 3
   },
   "file_extension": ".py",
   "mimetype": "text/x-python",
   "name": "python",
   "nbconvert_exporter": "python",
   "pygments_lexer": "ipython3",
   "version": "3.6.8"
  }
 },
 "nbformat": 4,
 "nbformat_minor": 1
}
